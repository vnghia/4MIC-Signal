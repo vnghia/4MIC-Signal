{
 "cells": [
  {
   "cell_type": "markdown",
   "metadata": {},
   "source": [
    "# Vocoder de Phase\n"
   ]
  },
  {
   "cell_type": "markdown",
   "metadata": {},
   "source": [
    "- VO Van Nghia\n",
    "- PHAM Tuan Kiet\n",
    "- 4MA-A"
   ]
  },
  {
   "cell_type": "code",
   "execution_count": null,
   "metadata": {},
   "outputs": [],
   "source": [
    "from IPython.display import Audio\n",
    "import numpy as np\n",
    "import scipy as scp\n",
    "import pylab as pyl\n",
    "from matplotlib import cm\n",
    "import matplotlib.pyplot as plt\n",
    "import pywt\n",
    "import scipy.io as sio\n",
    "from scipy import fftpack\n",
    "from matplotlib.pyplot import imshow as imageplot\n",
    "from mpl_toolkits.mplot3d import Axes3D\n",
    "import wave\n",
    "import warnings\n",
    "from scipy.io.wavfile import read\n",
    "from scipy.io.wavfile import write\n",
    "\n",
    "warnings.filterwarnings(\"ignore\")\n"
   ]
  },
  {
   "cell_type": "code",
   "execution_count": null,
   "metadata": {},
   "outputs": [],
   "source": [
    "import io\n",
    "import os\n",
    "import urllib\n",
    "\n",
    "from urllib.request import urlopen\n",
    "\n",
    "\n",
    "def fetch_data(\n",
    "    filename,\n",
    "    force_online=False,\n",
    "    prefix_url=\"https://plmlab.math.cnrs.fr/dossal/optimisationpourlimage/raw/master/\",\n",
    "):\n",
    "    if os.path.exists(filename) and not force_online:\n",
    "        return filename\n",
    "    path = urllib.parse.urljoin(prefix_url, filename)\n",
    "    data = io.BytesIO(urlopen(path).read())\n",
    "    if not force_online:\n",
    "        dir = os.path.dirname(filename)\n",
    "        if dir:\n",
    "            os.makedirs(os.path.dirname(filename), exist_ok=True)\n",
    "        with open(filename, \"wb\") as f:\n",
    "            f.write(data.read())\n",
    "        return filename\n",
    "    else:\n",
    "        return data\n"
   ]
  },
  {
   "cell_type": "markdown",
   "metadata": {},
   "source": [
    "Le but de ce TP est de réaliser un vocoder de Phase, c'est à dire un programme qui prend en entrée un fichier son, typiquement un fichier wav et qui produit un son ayant une tonalité identique au son original mais d'une durée différente. Rappelons qu'un fichier son audio numérique et monophonique est une liste de nombre correspondant à des valeurs échantillonnées de la pression acoustique mesurée de manière périodique à une certain fréquence $Fe$. Cette fréquence encodée dans le fichier audio permet de faire le lien entre le vecteur des pressions instantanée.\n",
    "\n",
    "Les commandes suivantes permettent de créer un son de 3 secondes à la fréquence 440Hz (Il s'agit d'un LA) avec une fréquence d'échantillonnage de 44100 Hz.\n",
    "\n",
    "Essayez de modifier la note qui est jouée, ainsi que la durée.\n",
    "\n",
    "Si on modifie le paramètre rate dans la fonction audio, on modifie la durée du son mais aussi sa fréquence.\n",
    "Plus on \"joue\" le vecteur rapidement, plus il est court et aigü.\n"
   ]
  },
  {
   "cell_type": "code",
   "execution_count": null,
   "metadata": {},
   "outputs": [],
   "source": [
    "Fe = 44100\n",
    "T = np.linspace(0, 2 * np.pi, 3 * Fe)\n",
    "son = np.cos(880 * T)\n",
    "Audio(son, rate=Fe)\n"
   ]
  },
  {
   "cell_type": "code",
   "execution_count": null,
   "metadata": {},
   "outputs": [],
   "source": [
    "SonGuitare = fetch_data(\"Guitare.wav\", True)\n",
    "a = read(SonGuitare)\n",
    "Audio(a[1], rate=Fe)\n"
   ]
  },
  {
   "cell_type": "code",
   "execution_count": null,
   "metadata": {},
   "outputs": [],
   "source": [
    "Audio(a[1], rate=2 * Fe)\n"
   ]
  },
  {
   "cell_type": "code",
   "execution_count": null,
   "metadata": {},
   "outputs": [],
   "source": [
    "Audio(a[1], rate=0.5 * Fe)\n"
   ]
  },
  {
   "cell_type": "markdown",
   "metadata": {},
   "source": [
    "L'objet de ce TP est donc de rédiger une série de programmes permettant de modifier la durée d'un son, sans en modifier le conternu fréquentiel. L'outils de base pour réaliser un tel programme est la transformée de Fourier à fenêtre dite aussi à court terme. C'est une transformée dite temps-fréquence qui à un vecteur associe un tableau de transformées de Fourier. Chaque colonne de la Transformée de Fourier à cour terme (TFct) correspond à la transformée de Fourier d'un extrait du son original qu'on appelle trame ou fenêtre. Les trames peuvent être disjointes ou pas. On peut multiplier (ou pas) la fenêtre par une fenêtre temporelle (comme une fenêtre de Hanning, de Hamming ou autre) pour réduire l'impact de de saucisonnage du son. En effet extraire une trame d'un son, c'est le multiplier par une fonction \"porte\" et c'est donc effectuer une convolution dans le domaine de Fourier par un sinus cardinal.\n",
    "\n",
    "Ainsi dès qu'on extrait une fenêtre d'un son, on altère son contenu fréquentiel, la multiplication par une fenêtre de Hanning est un moyen de limiter cette altération.\n"
   ]
  },
  {
   "cell_type": "markdown",
   "metadata": {},
   "source": [
    "# Contenu du vocoder\n"
   ]
  },
  {
   "cell_type": "markdown",
   "metadata": {},
   "source": [
    "Pour construire un vocoder de phase\n",
    "\n",
    "1. On fenêtre le signal en trames.\n",
    "\n",
    "2. On stocke dans deux tableaux, le module et la phase des fft des trames.\n",
    "   Pour dilater ou comprimer un son, on interpole séparérement le\n",
    "   module et la phase sur chaque nouvelle trame.\n",
    "\n",
    "3. On reconstruit le signal à partir des nouveaux tableaux de module et de phase.\n",
    "\n",
    "Le vocoder que nous proposons de construire est une fonction vocoder qui fait\n",
    "ainsi appel à 4 sous programmes :\n",
    "\n",
    "1. Analyse qui calcule la TFct dun vecteur S.\n",
    "\n",
    "2. Synthese qui reconstruit un signal Srec à partir dde la TFct\n",
    "3. InterpSpec qui interpole le spectrogramme (c'est-à-dire le module de la TFct) initial.\n",
    "4. InterpPhase qui interpole la phase.\n",
    "\n",
    "Dans le programme vocoder, on choisira le signal et le facteur de compression\n",
    "ou de dilatation. vocoder crée un fichier .wav directement lisible ou à défaut un vecteur qu'on pourra lire avec la commande \"Audio\".\n"
   ]
  },
  {
   "cell_type": "markdown",
   "metadata": {},
   "source": [
    "## Les programmes\n"
   ]
  },
  {
   "cell_type": "markdown",
   "metadata": {},
   "source": [
    "### Analyse du son\n"
   ]
  },
  {
   "cell_type": "markdown",
   "metadata": {},
   "source": [
    "Ecrire un programme TFCourtTerme qui prend pour entrée\n",
    "un vecteur colonne $S$ et un entier $N$ et un facteur de recouvrement $rec$ et qui renvoie, un tableau de TFct.\n",
    "Dans l'analyse comme dans la synthèse on utilisera des fenêtres de taille $N$, et un facteur de recouvrement de 8, c'est à dire que chaque fenêtre d'analyse est décalée de la précédente d'une longueur $N/8$.\n",
    "En chaque point passet ainsi 8 fenêtres.\n",
    "On tronquera le signal à un nombre entier de fenêtres, en pratique on prendra\n",
    "souvent $N=1024$.\n",
    "\n",
    "On pourra utiliser les notations suivantes: NS taille de S, Nf nombre de fenêtres d'analyse, H fenêtre de Hanning de taille N.\n"
   ]
  },
  {
   "cell_type": "code",
   "execution_count": null,
   "metadata": {},
   "outputs": [],
   "source": [
    "def TFCourtTerme(Son, N, rec):\n",
    "    H = np.hanning(N)\n",
    "    NS = len(Son)\n",
    "    D = N // rec\n",
    "    Nf = NS * rec // N - rec + 1\n",
    "    TF = np.empty((N, Nf), dtype=complex)\n",
    "    for i in range(Nf):\n",
    "        idx = i * D\n",
    "        TF[:, i] = fftpack.fft(H * Son[idx : idx + N])\n",
    "    return TF\n"
   ]
  },
  {
   "cell_type": "code",
   "execution_count": null,
   "metadata": {},
   "outputs": [],
   "source": [
    "TFct = TFCourtTerme(a[1], 1024, 8)\n"
   ]
  },
  {
   "cell_type": "markdown",
   "metadata": {},
   "source": [
    "### Synthèse du son\n"
   ]
  },
  {
   "cell_type": "markdown",
   "metadata": {},
   "source": [
    "Ecrire un programme RecSon qui prend en entrée une TFct et un facteur de recouvrement et qui renvoie un vecteur Sonrec\n",
    "\n",
    "Quelques remarques utiles :\n",
    "\n",
    "1. Il est plus facile de partir d'un vecteur $Sonrec$ nul et d'y ajouter chaque fenêtre que de parcourir les points un à un et de sommer les contributions des 8 fenêtres associées au point.\n",
    "\n",
    "2. On n'oubliera pas de fenêtrer avec une fenêtre de Hanning les trames reconstruites.\n",
    "\n",
    "3. Ce programme peut également être écrit en moins de 15 lignes.\n",
    "\n",
    "4. Justifier que si on prend rec=8, et qu'on effectue la recosntruction à partir de la TFct originale, on obtient un son qui est exactement à 3 fois le son original.\n"
   ]
  },
  {
   "cell_type": "code",
   "execution_count": null,
   "metadata": {},
   "outputs": [],
   "source": [
    "def RecSon(TF, rec):\n",
    "    N = np.shape(TF)[0]\n",
    "    Nf = np.shape(TF)[1]\n",
    "    H = np.hanning(N)\n",
    "    D = N // rec\n",
    "    NS = D * Nf + D * (rec - 1)\n",
    "    Son = np.zeros(NS, dtype=complex)\n",
    "    for i in range(Nf):\n",
    "        idx = i * D\n",
    "        Son[idx : idx + N] += H * fftpack.ifft(TF[:, i])\n",
    "    Son = np.real(Son)\n",
    "    return Son / 3\n"
   ]
  },
  {
   "cell_type": "code",
   "execution_count": null,
   "metadata": {},
   "outputs": [],
   "source": [
    "Sonrec = RecSon(TFct, 8)\n"
   ]
  },
  {
   "cell_type": "markdown",
   "metadata": {},
   "source": [
    "### Interpolation du spectre\n"
   ]
  },
  {
   "cell_type": "markdown",
   "metadata": {},
   "source": [
    "Ecrire un progamme InterpSpec qui prend en entrée, un spectrogramme\n",
    "$Spec$ et un vecteur colonne $T$ contenant les \"indices réels\"\n",
    "des nouvelles fenêtres à construire et qui renvoie le tableau\n",
    "$Spec2$ du spectrogamme interpolé.\n",
    "Les valeurs de $T$ doivent varier entre 0 et $Nf-1$.\n",
    "\n",
    "Remarques :\n",
    "\n",
    "1. Le nombre de fenêtres de $Spec2$ est égal à la longueur de $T$\n",
    "\n",
    "2. La colonne d'indice $k$ de $Spec2$ correspond à la colonne d'indice réel $T(k)$ de $Spec$. Elle se calcule à partir des colonnes de $Spec$ d'indices $np.floor(T[k]))$ et $np.floor(T[k])+1$ par une judiciceuse combinaison liénaire.\n"
   ]
  },
  {
   "cell_type": "code",
   "execution_count": null,
   "metadata": {},
   "outputs": [],
   "source": [
    "def InterpSpec(Spec, T):\n",
    "    N = np.shape(Spec)[0]\n",
    "    Nf = np.size(T)\n",
    "    Spec2 = np.empty((N, Nf))\n",
    "    for k in range(Nf):\n",
    "        t = T[k]\n",
    "        idx = int(np.floor(t))\n",
    "        a = t - idx\n",
    "        Spec2[:, k] = (1 - a) * Spec[:, idx] + a * Spec[:, idx + 1]\n",
    "    return Spec2\n"
   ]
  },
  {
   "cell_type": "markdown",
   "metadata": {},
   "source": [
    "### Interpolation de la phase\n"
   ]
  },
  {
   "cell_type": "markdown",
   "metadata": {},
   "source": [
    "Ecrire un programme InterpPhase qui prend en entrée un tableau de phase $Phase$ et un vecteur $T$ contenant\n",
    "les indices \"réels\" des nouvelles fenêtres et qui renvoie le tableau de phase $Phase2$ associé à ce jeu de fenêtres.\\\\\n",
    "\n",
    "Le calcul de la phase est le point le plus délicat du vocoder de phase. Pour que le son reconstruit\n",
    "soit le plus fidèle possible au son original, la phase associée à chaque fréquence doit varier\n",
    "à la même vitesse que sur le son original.\n",
    "\n",
    "Comme dans le programme précédent, la colonne d'indice $k$ de $Phase2$ correspond à la colonne d'indice réel $T[k]$\n",
    "dans le tableau $Phase$. Cette colonne $Phase2[:][k]$ doit être construite de telle sorte que la variation de phase\n",
    "locale entre les deux tableaux soit proche :\n",
    "\\begin{equation}\n",
    "Phase2[:][k]-Phase2[:][k-1]=Phase[:]np.floor(T[k])]-Phase[:]floor(T[k])-1]\n",
    "\\end{equation}\n"
   ]
  },
  {
   "cell_type": "code",
   "execution_count": null,
   "metadata": {},
   "outputs": [],
   "source": [
    "def InterpPhase(Phase, T):\n",
    "    N = np.shape(Phase)[0]\n",
    "    Nf = np.size(T)\n",
    "    Phase2 = np.empty((N, Nf))\n",
    "    Phase2[:, 0] = Phase[:, int(np.floor(T[0]))]\n",
    "    for k in range(1, Nf):\n",
    "        idx = int(np.floor(T[k]))\n",
    "        Phase2[:, k] = Phase[:, idx] - Phase[:, idx - 1] + Phase2[:, k - 1]\n",
    "    return Phase2\n"
   ]
  },
  {
   "cell_type": "markdown",
   "metadata": {},
   "source": [
    "### Vocoder\n"
   ]
  },
  {
   "cell_type": "markdown",
   "metadata": {},
   "source": [
    "On appellera par exemple Vocoder le programme principal. Il prend en entrée un fichier .wav et un facteur de dilatation $alpha$.\n",
    "\n",
    "1. On analyse le son grâce au programme Analyse.\n",
    "\n",
    "2. On crée un vecteur $T$ qui contiendra les \"indices réels\" des fenêtres associéees au signal reconstruit.\n",
    "\n",
    "3. On interpole le spectre et on calcule la phase avec InterpSpec et InterpPhase.\n",
    "4. On reconstruit un tableau de TFct à partir du Spectrogramme et de la phase interpolée.\n",
    "5. On reconstruit le son avec Synthese\n"
   ]
  },
  {
   "cell_type": "code",
   "execution_count": null,
   "metadata": {},
   "outputs": [],
   "source": [
    "plt.figure(figsize=(15, 10))\n",
    "plt.subplot(2, 1, 1)\n",
    "plt.plot(a[1])\n",
    "plt.subplot(2, 1, 2)\n",
    "plt.plot(Sonrec)\n",
    "plt.show()\n",
    "Audio(Sonrec, rate=Fe)\n"
   ]
  },
  {
   "cell_type": "code",
   "execution_count": null,
   "metadata": {},
   "outputs": [],
   "source": [
    "def Vocoder(Son, alpha, N=1024, rec=8):\n",
    "    TFct = TFCourtTerme(Son, N, rec)\n",
    "    Nf = TFct.shape[1]\n",
    "    Spec = np.abs(TFct)\n",
    "    Phase = np.angle(TFct)\n",
    "    T = np.arange(0, Nf - 1, alpha)\n",
    "    Spec2 = InterpSpec(Spec, T)\n",
    "    Phase2 = InterpPhase(Phase, T)\n",
    "    TFVo = Spec2 * (np.cos(Phase2) + np.sin(Phase2) * 1j)\n",
    "    SonVo = RecSon(TFVo, rec)\n",
    "    return SonVo\n"
   ]
  },
  {
   "cell_type": "code",
   "execution_count": null,
   "metadata": {},
   "outputs": [],
   "source": [
    "def VocoderPath(\n",
    "    input,\n",
    "    output,\n",
    "    alpha,\n",
    "    N=1024,\n",
    "    rec=8,\n",
    "    force_online=False,\n",
    "    prefix_url=\"https://plmlab.math.cnrs.fr/dossal/optimisationpourlimage/raw/master/\",\n",
    "):\n",
    "    rate, data = read(fetch_data(input, force_online, prefix_url))\n",
    "    data_vo = Vocoder(data, alpha, N, rec)\n",
    "    write(output, rate, data_vo.astype(np.int16))\n",
    "    return rate, data_vo\n"
   ]
  },
  {
   "cell_type": "code",
   "execution_count": null,
   "metadata": {},
   "outputs": [],
   "source": [
    "rate, SonVoSlow = VocoderPath(\"Guitare.wav\", \"Guitare.0.5.wav\", 0.5)\n",
    "plt.plot(SonVoSlow)\n",
    "Audio(SonVoSlow, rate=rate)\n"
   ]
  },
  {
   "cell_type": "code",
   "execution_count": null,
   "metadata": {},
   "outputs": [],
   "source": [
    "rate, SonVoFast = VocoderPath(\"Guitare.wav\", \"Guitare.2.wav\", 2)\n",
    "plt.plot(SonVoFast)\n",
    "Audio(SonVoFast, rate=rate)\n"
   ]
  },
  {
   "cell_type": "markdown",
   "metadata": {},
   "source": [
    "On entend que le `Guitar.2.wav` son est plus rapide que le son d'origine et que `Guitar.0.5.wav` est plus lent. Les deux sons sont construits sans modification de `Fe`."
   ]
  }
 ],
 "metadata": {
  "kernelspec": {
   "display_name": "Python 3 (ipykernel)",
   "language": "python",
   "name": "python3"
  },
  "language_info": {
   "codemirror_mode": {
    "name": "ipython",
    "version": 3
   },
   "file_extension": ".py",
   "mimetype": "text/x-python",
   "name": "python",
   "nbconvert_exporter": "python",
   "pygments_lexer": "ipython3",
   "version": "3.8.10"
  }
 },
 "nbformat": 4,
 "nbformat_minor": 4
}
