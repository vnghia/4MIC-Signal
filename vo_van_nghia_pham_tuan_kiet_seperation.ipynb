{
 "cells": [
  {
   "cell_type": "markdown",
   "metadata": {},
   "source": [
    "# Séparation de sources\n"
   ]
  },
  {
   "cell_type": "markdown",
   "metadata": {},
   "source": [
    "- VO Van Nghia\n",
    "- PHAM Tuan Kiet\n",
    "- 4MA-A"
   ]
  },
  {
   "cell_type": "code",
   "execution_count": null,
   "metadata": {},
   "outputs": [],
   "source": [
    "from __future__ import division\n",
    "from IPython.display import Audio\n",
    "import numpy as np\n",
    "import scipy as scp\n",
    "import pylab as pyl\n",
    "from matplotlib import cm\n",
    "import matplotlib.pyplot as plt\n",
    "import pywt\n",
    "import scipy.io as sio\n",
    "from scipy import fftpack\n",
    "from matplotlib.pyplot import imshow as imageplot\n",
    "from mpl_toolkits.mplot3d import Axes3D\n",
    "import wave\n",
    "import warnings\n",
    "from scipy.io.wavfile import read\n",
    "from scipy.signal import find_peaks\n",
    "\n",
    "warnings.filterwarnings(\"ignore\")\n"
   ]
  },
  {
   "cell_type": "markdown",
   "metadata": {},
   "source": [
    "Le but de ce TP est de réaliser un programme python qui effectue une séparation de sources. Plus précisément un programme qui prend en entrée un son stéréophonique, mélange instantané de plusieurs sources sonores (ici des instruments de musique) et qui renvoie plusieurs sons stéréophoniques. On utilisera la transformée de Fourier à court terme (TFCT), ou transformée de Fourier à fenêtres, vue lors du TP précédent.\n",
    "Le procédé général de ce programme de séparation de sources est intégralement décrit dans le poly de cours. Je vous invite à vous y reporter pour de plus amples explications. En bref, on va utiliser le fait,\n",
    "que la plupart du temps, deux instrusments ne jouent pas la même note au même moment et on va segmenter les spectrogrammes des deux voix de manière à attribuer chaque atome temps-fréquence à un instrument, en fonction du rapport d'intensité entre les deux voix, qui est supposé caractérisé chaque instrument.\n",
    "Le TP de décompose en trois parties.\n",
    "\n",
    "1. On considère un mélange de seulement deux instruments et on fait l'hypothèse que l'on connait les coefficients du mélange.\n",
    "\n",
    "2. On considère un mélange de trois instruments et on fait l'hypothèse que l'on connait les coefficients du mélange.\n",
    "\n",
    "3. On considère le même mélange de trois instruments mais cette fois ci on estime les coefficients de mélange.\n",
    "\n",
    "Ce TP s'appuiera sur les codes réalisés lors du précédent, plus précisément TFCourtTerme et RecSon.\n"
   ]
  },
  {
   "cell_type": "code",
   "execution_count": null,
   "metadata": {},
   "outputs": [],
   "source": [
    "import io\n",
    "import os\n",
    "import urllib\n",
    "\n",
    "from urllib.request import urlopen\n",
    "\n",
    "\n",
    "def fetch_data(\n",
    "    filename,\n",
    "    force_online=False,\n",
    "    prefix_url=\"https://plmlab.math.cnrs.fr/dossal/optimisationpourlimage/raw/master/\",\n",
    "):\n",
    "    if os.path.exists(filename) and not force_online:\n",
    "        return filename\n",
    "    path = urllib.parse.urljoin(prefix_url, filename)\n",
    "    data = io.BytesIO(urlopen(path).read())\n",
    "    if not force_online:\n",
    "        dir = os.path.dirname(filename)\n",
    "        if dir:\n",
    "            os.makedirs(os.path.dirname(filename), exist_ok=True)\n",
    "        with open(filename, \"wb\") as f:\n",
    "            f.write(data.read())\n",
    "        return filename\n",
    "    else:\n",
    "        return data\n"
   ]
  },
  {
   "cell_type": "code",
   "execution_count": null,
   "metadata": {},
   "outputs": [],
   "source": [
    "def TFCourtTerme(Son, N=1024, rec=8):\n",
    "    H = np.hanning(N)\n",
    "    NS = len(Son)\n",
    "    D = N // rec\n",
    "    Nf = NS * rec // N - rec + 1\n",
    "    TF = np.empty((N, Nf), dtype=complex)\n",
    "    for i in range(Nf):\n",
    "        idx = i * D\n",
    "        TF[:, i] = fftpack.fft(H * Son[idx : idx + N])\n",
    "    return TF\n"
   ]
  },
  {
   "cell_type": "code",
   "execution_count": null,
   "metadata": {},
   "outputs": [],
   "source": [
    "def RecSon(TF, rec=8):\n",
    "    N = np.shape(TF)[0]\n",
    "    Nf = np.shape(TF)[1]\n",
    "    H = np.hanning(N)\n",
    "    D = N // rec\n",
    "    NS = D * Nf + D * (rec - 1)\n",
    "    Son = np.zeros(NS, dtype=complex)\n",
    "    for i in range(Nf):\n",
    "        idx = i * D\n",
    "        Son[idx : idx + N] += H * fftpack.ifft(TF[:, i])\n",
    "    Son = np.real(Son)\n",
    "    return Son / 3\n"
   ]
  },
  {
   "cell_type": "code",
   "execution_count": null,
   "metadata": {},
   "outputs": [],
   "source": [
    "def plot_spec(spec, label, figsize=(20, 20), aspect=None, colorbar=False):\n",
    "    fig = plt.figure(figsize=figsize)\n",
    "    ax = fig.gca()\n",
    "    im = ax.imshow(spec)\n",
    "    if colorbar:\n",
    "        fig.colorbar(im)\n",
    "    if aspect:\n",
    "        ax.set_aspect(aspect)\n",
    "    ax.set_xlabel(\"Time\")\n",
    "    ax.set_ylabel(\"Frequency\")\n",
    "    ax.set_title(f\"Spectrogram of {label}\")\n"
   ]
  },
  {
   "cell_type": "markdown",
   "metadata": {},
   "source": [
    "## Séparation de deux instruments\n"
   ]
  },
  {
   "cell_type": "markdown",
   "metadata": {},
   "source": [
    "A l'aide la fonction read, charger dans deux vecteurs différents $V1$ et $V2$ les sons Mix11.wav et Mix21.wav et afficher les tranformées de Fourier à fenêtres de chacune des deux voix (on utilisera TFCourtTerme).\n",
    "On pourra afficher les basses fréquences pour mieux voir.\n",
    "On fait l'hypothèse que les voix 1 et 2 (dites V1 et V2 ) est obtenue à partir des deux sources S1 et S2 de la manière suivante :\n",
    "$$V_1=\\frac{1}{3}S_1+\\frac{2}{3}S_2\\text{ et }V_2=\\frac{2}{3}S_1+\\frac{1}{3}S_2$$\n",
    "Vous devriez voir les traces des deux instruments qui diffèrent par leur structure.\n"
   ]
  },
  {
   "cell_type": "code",
   "execution_count": null,
   "metadata": {},
   "outputs": [],
   "source": [
    "fe11, mix11 = read(fetch_data(\"img/Mix11.wav\"))\n",
    "fe21, mix21 = read(fetch_data(\"img/Mix21.wav\"))\n",
    "assert fe11 == fe21\n",
    "fe = fe11\n"
   ]
  },
  {
   "cell_type": "code",
   "execution_count": null,
   "metadata": {},
   "outputs": [],
   "source": [
    "tf11 = TFCourtTerme(mix11)\n",
    "tf21 = TFCourtTerme(mix21)\n"
   ]
  },
  {
   "cell_type": "code",
   "execution_count": null,
   "metadata": {},
   "outputs": [],
   "source": [
    "Audio(mix11, rate=fe)\n"
   ]
  },
  {
   "cell_type": "code",
   "execution_count": null,
   "metadata": {},
   "outputs": [],
   "source": [
    "Audio(mix21, rate=fe)\n"
   ]
  },
  {
   "cell_type": "code",
   "execution_count": null,
   "metadata": {},
   "outputs": [],
   "source": [
    "spec11 = np.abs(tf11)\n",
    "spec21 = np.abs(tf21)\n"
   ]
  },
  {
   "cell_type": "code",
   "execution_count": null,
   "metadata": {},
   "outputs": [],
   "source": [
    "plot_spec(spec11, \"Mix11\", (6, 6))\n",
    "plot_spec(spec21, \"Mix21\", (6, 6))\n"
   ]
  },
  {
   "cell_type": "markdown",
   "metadata": {},
   "source": [
    "On voir qu'il y a des points verts autour des basses fréquences, donc il faut faire le spectrogramme de basse fréquence."
   ]
  },
  {
   "cell_type": "code",
   "execution_count": null,
   "metadata": {},
   "outputs": [],
   "source": [
    "plot_spec(spec11[:20], \"Mix11 at low frequency\", aspect=10)\n",
    "plot_spec(spec21[:20], \"Mix21 at low frequency\", aspect=10)\n"
   ]
  },
  {
   "cell_type": "markdown",
   "metadata": {},
   "source": [
    "La partie plus lumineuse dans la première spectrogramme est de la guitare et celle dans la deuxième spectrogramme est de la batterie."
   ]
  },
  {
   "cell_type": "markdown",
   "metadata": {},
   "source": [
    "Pour la première fois, on peut estimer le bon résultat en résolvant les deux équations :\n",
    "\n",
    "$$\n",
    "\\begin{cases}\n",
    "V_1 = \\frac{1}{3} S_1 + \\frac{2}{3} S_2\\\\\n",
    "V_2 = \\frac{2}{3 } S_1 + \\frac{1}{3} S_2\n",
    "\\end{cases}\n",
    "\\implies\n",
    "\\begin{cases}\n",
    "S_1 = 2 V_2 - V_1\\\\\n",
    "S_2 = 2 V_1 - V_2\n",
    "\\end{cases}\n",
    "$$\n",
    "\n",
    "Ce n'est pas notre objectif puisque on veut séparer les sources sans connaître les coefficients mais cela nous donne une idée de ce que on doit obtenir au final.\n"
   ]
  },
  {
   "cell_type": "code",
   "execution_count": null,
   "metadata": {},
   "outputs": [],
   "source": [
    "tf1_true = 2 * tf21 - tf11\n",
    "s1_true = RecSon(tf1_true)\n",
    "Audio(s1_true, rate=fe)\n"
   ]
  },
  {
   "cell_type": "code",
   "execution_count": null,
   "metadata": {},
   "outputs": [],
   "source": [
    "tf2_true = 2 * tf11 - tf21\n",
    "s2_true = RecSon(tf2_true)\n",
    "Audio(s2_true, rate=fe)\n"
   ]
  },
  {
   "cell_type": "markdown",
   "metadata": {},
   "source": [
    "On entend parfaitement deux sons séparés sans bruit.\n"
   ]
  },
  {
   "cell_type": "markdown",
   "metadata": {},
   "source": [
    "Proposer un programme Separation2Instru qui prend en entrée deux Transformées de Fourier à court terme (TFCT) et un seuil $T$ et qui renvoie 4 TFCT, chacune associée à une source et à un instrument. Le détail de la procédure est décrite dans le poly et a été expliqué en cours. On rappelle, qu'on effectue la séparation uniquement à partir du module de la TFCT. On reconstruit ensuite les TFCT en utilisant les phases des voix 1 et 2.\n"
   ]
  },
  {
   "cell_type": "code",
   "execution_count": null,
   "metadata": {},
   "outputs": [],
   "source": [
    "def separation_2(tfv1, tfv2, t):\n",
    "    ratio = np.abs(tfv1) / np.abs(tfv2)\n",
    "    is_s1 = ratio < t\n",
    "    is_s2 = ~is_s1\n",
    "\n",
    "    tfv1s1 = tfv1 * is_s1\n",
    "    tfv1s2 = tfv1 * is_s2\n",
    "    tfv2s1 = tfv2 * is_s1\n",
    "    tfv2s2 = tfv2 * is_s2\n",
    "\n",
    "    return tfv1s1, tfv1s2, tfv2s1, tfv2s2\n"
   ]
  },
  {
   "cell_type": "markdown",
   "metadata": {},
   "source": [
    "Quel seuil peut-on proposer ici ? Proposer une formule générale en fonction des coefficients du mélange.\n"
   ]
  },
  {
   "cell_type": "markdown",
   "metadata": {},
   "source": [
    "Si $\\begin{cases}S_1 = \\alpha_1 V_1 + \\beta_1 V_2 \\\\ S_2 = \\alpha_2 V_1 + \\beta_2 V_2 \\end{cases}$, on pose $R_1 = \\frac{\\alpha_1}{\\beta_1}$ et $R_2 = \\frac{\\alpha_2}{\\beta_2}$ les coefficients du mélange.\n",
    "\n",
    "Il y a beaucoup de méthode pour choisir $T$ de $R_1$ et $R_2$. Ici, on choisit $T=\\sqrt{R_1 R_2}$.\n"
   ]
  },
  {
   "cell_type": "markdown",
   "metadata": {},
   "source": [
    "Reconstruire ensuite à l'aide du programme RecSon, chacune des voix et écouter chacun des 4 sons produits.\n",
    "Commentez le résultat.\n"
   ]
  },
  {
   "cell_type": "code",
   "execution_count": null,
   "metadata": {},
   "outputs": [],
   "source": [
    "t = np.sqrt(((1 / 3) / (2 / 3)) / ((2 / 3) / (1 / 3)))\n",
    "tf11s1, tf11s2, tf21s1, tf21s2 = separation_2(tf11, tf21, t)\n"
   ]
  },
  {
   "cell_type": "code",
   "execution_count": null,
   "metadata": {},
   "outputs": [],
   "source": [
    "s1_11 = RecSon(tf11s1)\n",
    "plot_spec(np.abs(tf11s1)[:20], \"S1 in Mix11 at low frequency\", aspect=10)\n",
    "Audio(s1_11, rate=fe)\n"
   ]
  },
  {
   "cell_type": "code",
   "execution_count": null,
   "metadata": {},
   "outputs": [],
   "source": [
    "s1_21 = RecSon(tf21s1)\n",
    "plot_spec(np.abs(tf21s1)[:20], \"S1 in Mix21 at low frequency\", aspect=10)\n",
    "Audio(s1_21, rate=fe)\n"
   ]
  },
  {
   "cell_type": "code",
   "execution_count": null,
   "metadata": {},
   "outputs": [],
   "source": [
    "s2_11 = RecSon(tf11s2)\n",
    "plot_spec(np.abs(tf11s2)[:20], \"S2 in Mix11 at low frequency\", aspect=10)\n",
    "Audio(s2_11, rate=fe)\n"
   ]
  },
  {
   "cell_type": "code",
   "execution_count": null,
   "metadata": {},
   "outputs": [],
   "source": [
    "s2_21 = RecSon(tf21s2)\n",
    "plot_spec(np.abs(tf21s2)[:20], \"S2 in Mix21 at low frequency\", aspect=10)\n",
    "Audio(s2_21, rate=fe)\n"
   ]
  },
  {
   "cell_type": "markdown",
   "metadata": {},
   "source": [
    "Cette méthode permet de reconstituer un enregistrement parfait de chaque instrument. Cependant, il faut connaître les rapports du mélange ce qui n'est généralement pas le cas dans la réalité.\n"
   ]
  },
  {
   "cell_type": "markdown",
   "metadata": {},
   "source": [
    "## Séparation de trois instruments\n"
   ]
  },
  {
   "cell_type": "markdown",
   "metadata": {},
   "source": [
    "Charger les nouvelles voix 1 et 2 à partir des fichiers Mix12.wav et Mix22.wav.\n",
    "On fait l'hypothèse que chacune des voix est maintenant un mélange instantané de trois instruments\n",
    "$$SV_1= \\frac{2}{5}S_1 + \\frac{1}{5}S_2 + \\frac{4}{5}S_3\\text{ et }V_2= \\frac{3}{5}S_1 + \\frac{4}{5}S_2 + \\frac{1}{5}S_3$$\n"
   ]
  },
  {
   "cell_type": "markdown",
   "metadata": {},
   "source": [
    "Afficher les spectrogrammes des deux voix et visualiser les traces des trois instruments.\n"
   ]
  },
  {
   "cell_type": "code",
   "execution_count": null,
   "metadata": {},
   "outputs": [],
   "source": [
    "fe12, mix12 = read(fetch_data(\"img/Mix12.wav\"))\n",
    "fe22, mix22 = read(fetch_data(\"img/Mix22.wav\"))\n",
    "assert fe11 == fe21 == fe\n"
   ]
  },
  {
   "cell_type": "code",
   "execution_count": null,
   "metadata": {},
   "outputs": [],
   "source": [
    "tf12 = TFCourtTerme(mix12)\n",
    "tf22 = TFCourtTerme(mix22)\n"
   ]
  },
  {
   "cell_type": "code",
   "execution_count": null,
   "metadata": {},
   "outputs": [],
   "source": [
    "plot_spec(np.abs(tf12)[:20], \"Mix12 at low frequency\", aspect=10)\n",
    "Audio(mix12, rate=fe)\n"
   ]
  },
  {
   "cell_type": "code",
   "execution_count": null,
   "metadata": {},
   "outputs": [],
   "source": [
    "plot_spec(np.abs(tf22)[:20], \"Mix22 at low frequency\", aspect=10)\n",
    "Audio(mix22, rate=fe)\n"
   ]
  },
  {
   "cell_type": "markdown",
   "metadata": {},
   "source": [
    "Proposer un programme de séparation Separation3Instru qui prend en entrée deux TFCT, un vecteur $T$ seuil à 2 composantes et qui renvoie 6 TFCT associées aux deux voix de chacun des trois instruments.\n"
   ]
  },
  {
   "cell_type": "code",
   "execution_count": null,
   "metadata": {},
   "outputs": [],
   "source": [
    "def separation_3(tfv1, tfv2, ts):\n",
    "    ratio = np.abs(tfv1) / np.abs(tfv2)\n",
    "    is_s1 = ratio < ts[0]\n",
    "    is_s2 = (ts[0] <= ratio) & (ratio < ts[1])\n",
    "    is_s3 = ts[1] <= ratio\n",
    "\n",
    "    tfv1s1 = tfv1 * is_s1\n",
    "    tfv1s2 = tfv1 * is_s2\n",
    "    tfv1s3 = tfv1 * is_s3\n",
    "    tfv2s1 = tfv2 * is_s1\n",
    "    tfv2s2 = tfv2 * is_s2\n",
    "    tfv2s3 = tfv1 * is_s3\n",
    "\n",
    "    return tfv1s1, tfv1s2, tfv1s3, tfv2s1, tfv2s2, tfv2s3\n"
   ]
  },
  {
   "cell_type": "markdown",
   "metadata": {},
   "source": [
    "Ecrire un programme CalculSeuil qui prend en entrée 3 rapports d'intensité et qui renvoie deux seuils associés.\n"
   ]
  },
  {
   "cell_type": "code",
   "execution_count": null,
   "metadata": {},
   "outputs": [],
   "source": [
    "def calcul_seuil(rs):\n",
    "    index = np.argsort(rs)\n",
    "    ts = np.array(\n",
    "        [np.sqrt(rs[index[0]] * rs[index[1]]), np.sqrt(rs[index[1]] * rs[index[2]])]\n",
    "    )\n",
    "    return ts\n"
   ]
  },
  {
   "cell_type": "markdown",
   "metadata": {},
   "source": [
    "Tester le programme en utilisant les rapports d'intensités calculés à partir des coefficients de mélange, et commenter.\n"
   ]
  },
  {
   "cell_type": "code",
   "execution_count": null,
   "metadata": {},
   "outputs": [],
   "source": [
    "rs = np.array([2 / 3, 1 / 4, 4 / 1])\n",
    "ts = calcul_seuil(rs)\n"
   ]
  },
  {
   "cell_type": "code",
   "execution_count": null,
   "metadata": {},
   "outputs": [],
   "source": [
    "tf12s1, tf12s2, tf12s3, tf22s1, tf22s2, tf22s3 = separation_3(tf12, tf22, ts)\n"
   ]
  },
  {
   "cell_type": "code",
   "execution_count": null,
   "metadata": {},
   "outputs": [],
   "source": [
    "s1_12 = RecSon(tf12s1)\n",
    "plot_spec(np.abs(tf12s1)[:20], \"S1 in Mix12 at low frequency\", aspect=10)\n",
    "Audio(s1_12, rate=fe)\n"
   ]
  },
  {
   "cell_type": "code",
   "execution_count": null,
   "metadata": {},
   "outputs": [],
   "source": [
    "s1_22 = RecSon(tf22s1)\n",
    "plot_spec(np.abs(tf22s1)[:20], \"S1 in Mix22 at low frequency\", aspect=10)\n",
    "Audio(s1_22, rate=fe)\n"
   ]
  },
  {
   "cell_type": "markdown",
   "metadata": {},
   "source": [
    "Le séparateur peut distinguer le son du piano mais il y a encore des defaux audibles et des discontinuation dans le son."
   ]
  },
  {
   "cell_type": "code",
   "execution_count": null,
   "metadata": {},
   "outputs": [],
   "source": [
    "s2_12 = RecSon(tf12s2)\n",
    "plot_spec(np.abs(tf12s2)[:20], \"S2 in Mix12 at low frequency\", aspect=10)\n",
    "Audio(s2_12, rate=fe)\n"
   ]
  },
  {
   "cell_type": "code",
   "execution_count": null,
   "metadata": {},
   "outputs": [],
   "source": [
    "s2_22 = RecSon(tf22s2)\n",
    "plot_spec(np.abs(tf22s2)[:20], \"S2 in Mix22 at low frequency\", aspect=10)\n",
    "Audio(s2_22, rate=fe)\n"
   ]
  },
  {
   "cell_type": "markdown",
   "metadata": {},
   "source": [
    "La même résultat pour le batterie, la séparation peut distinguer la son du batterie mais il y a encore des defaux audibles."
   ]
  },
  {
   "cell_type": "code",
   "execution_count": null,
   "metadata": {},
   "outputs": [],
   "source": [
    "s3_12 = RecSon(tf12s3)\n",
    "plot_spec(np.abs(tf12s3)[:20], \"S3 in Mix12 at low frequency\", aspect=10)\n",
    "Audio(s3_12, rate=fe)\n"
   ]
  },
  {
   "cell_type": "code",
   "execution_count": null,
   "metadata": {},
   "outputs": [],
   "source": [
    "s3_22 = RecSon(tf22s3)\n",
    "plot_spec(np.abs(tf22s3)[:20], \"S3 in Mix22 at low frequency\", aspect=10)\n",
    "Audio(s3_22, rate=fe)\n"
   ]
  },
  {
   "cell_type": "markdown",
   "metadata": {},
   "source": [
    "Le son de guitare est le son le plus correct. On voit que lorsque plus il y a d'instruments, moins le séparateur est robuste. C'est parce qu'il y a plus de chances que 2 instruments ou plus jouent la même note en même temps."
   ]
  },
  {
   "cell_type": "markdown",
   "metadata": {},
   "source": [
    "## Estimation des coeffients de mélange\n"
   ]
  },
  {
   "cell_type": "markdown",
   "metadata": {},
   "source": [
    "On suppose dans cette partie qu'on veut effectuer la séparation précédente, sans connaitre les coefficienst de mélange. On parle de séparation aveugle. On va donc chercher à estimer ces coefficients de mélange, ou plus précisément des rapports d'intensité des deux voix pour chacun des instruments. L'idée générale est simple : on va calculer un histogramme des rapports d'intensité des modules des TFCT et sélectionner les 3 valeurs les plus réprésentées dans l'histogramme, c'est à dire les troix maxima locaux de l'histogramme. Dans le détail on procéder de la manière suivante :\n",
    "\n",
    "1. On construit un tableau ModuleCarre qui va contenir la somme des carrés des modules des TFCT des deux voix.\n",
    "\n",
    "2. On seuille ce tableau de manière à ne conserver que les N= 10% de coefficients les plus importants du tableau.\n",
    "\n",
    "3. On construit une matrice $2\\times N$ qui contient les pairs d'intensité associées des TFCT des deux voix.\n",
    "\n",
    "4. On affiche sur un diagramme 2D les points obtnus (on ne les relie pas, on affiche par exemple des croix).\n",
    "\n",
    "Les points obtenus doivent se répartir approximativement selon des nuages dirigés le long de droites dont les coefficients directeurs sont les rapports d'intensité.\n",
    "\n",
    "5. On calcule un vecteur $R$ de rapports d'intensité (de longueur N).\n",
    "\n",
    "6. On affiche un histogramme de $R$ et un histogramme de $U=\\frac{R}{1+R}$. Vous devriez observer que les maxima de l'histogramme de $U$ sont plus marqués.\n",
    "\n",
    "7. Ecrire un programme qui estime les 3 valeurs des maximas de l'histogramme de U et donc les rapports $R_1$, $R_2$ et $R_3$ associés aux trois isntruments.\n",
    "\n",
    "8. A l'aide du programme précédent, calculer les seuils optimaux et effectuer la séparation.\n",
    "\n",
    "9. Commenter.\n"
   ]
  },
  {
   "cell_type": "markdown",
   "metadata": {},
   "source": [
    "1. On construit un tableau ModuleCarre qui va contenir la somme des carrés des modules des TFCT des deux voix"
   ]
  },
  {
   "cell_type": "code",
   "execution_count": null,
   "metadata": {},
   "outputs": [],
   "source": [
    "module_carre = np.abs(tf12) ** 2 + np.abs(tf22) ** 2\n"
   ]
  },
  {
   "cell_type": "markdown",
   "metadata": {},
   "source": [
    "2. On seuille ce tableau de manière à ne conserver que les N= 10% de coefficients les plus importants du tableau."
   ]
  },
  {
   "cell_type": "code",
   "execution_count": null,
   "metadata": {},
   "outputs": [],
   "source": [
    "N = int(np.size(module_carre) / 10)\n",
    "module_10_args = np.argpartition(module_carre, -N, None)[-N:]"
   ]
  },
  {
   "cell_type": "markdown",
   "metadata": {},
   "source": [
    "3. On construit une matrice $2\\times N$ qui contient les pairs d'intensité associées des TFCT des deux voix."
   ]
  },
  {
   "cell_type": "code",
   "execution_count": null,
   "metadata": {},
   "outputs": [],
   "source": [
    "tab_10_12 = np.abs(np.take_along_axis(tf12, module_10_args, None))\n",
    "tab_10_22 = np.abs(np.take_along_axis(tf22, module_10_args, None))\n",
    "\n",
    "tab_10 = np.vstack((tab_10_12, tab_10_22))\n"
   ]
  },
  {
   "cell_type": "markdown",
   "metadata": {},
   "source": [
    "4. On affiche sur un diagramme 2D les points obtnus (on ne les relie pas, on affiche par exemple des croix)."
   ]
  },
  {
   "cell_type": "code",
   "execution_count": null,
   "metadata": {},
   "outputs": [],
   "source": [
    "plt.figure(figsize=(10, 10))\n",
    "plt.scatter(tab_10_12, tab_10_22, s=0.5, alpha=0.5)\n",
    "plt.xlabel(\"S1\")\n",
    "plt.ylabel(\"S2\")\n",
    "plt.show()\n"
   ]
  },
  {
   "cell_type": "markdown",
   "metadata": {},
   "source": [
    "On observe clairement qu'il y a 3 tendances dans le graphique ci-dessus."
   ]
  },
  {
   "cell_type": "markdown",
   "metadata": {},
   "source": [
    "5. On calcule un vecteur $R$ de rapports d'intensité (de longueur N)."
   ]
  },
  {
   "cell_type": "code",
   "execution_count": null,
   "metadata": {},
   "outputs": [],
   "source": [
    "R = tab_10_12 / tab_10_22\n"
   ]
  },
  {
   "cell_type": "markdown",
   "metadata": {},
   "source": [
    "6. On affiche un histogramme de $R$ et un histogramme de $U=\\frac{R}{1+R}$. Vous devriez observer que les maxima de l'histogramme de $U$ sont plus marqués."
   ]
  },
  {
   "cell_type": "code",
   "execution_count": null,
   "metadata": {},
   "outputs": [],
   "source": [
    "U = R / (1 + R)\n",
    "plt.hist(R, bins=200, range=(0, 1))\n",
    "plt.title(\"Histogram of R\")\n",
    "plt.show()\n",
    "u_hist = plt.hist(U, bins=200, range=(0, 1))\n",
    "plt.title(\"Histogram of U\")\n",
    "plt.show()\n"
   ]
  },
  {
   "cell_type": "markdown",
   "metadata": {},
   "source": [
    "7. Ecrire un programme qui estime les 3 valeurs des maximas de l'histogramme de U et donc les rapports $R_1$, $R_2$ et $R_3$ associés aux trois isntruments."
   ]
  },
  {
   "cell_type": "code",
   "execution_count": null,
   "metadata": {},
   "outputs": [],
   "source": [
    "def calculate_r(hist, label, **kwargs):\n",
    "    peaks_idx, _ = find_peaks(hist[0], **kwargs)\n",
    "    H, bins = hist[0], hist[1]\n",
    "    x_peaks = bins[peaks_idx]\n",
    "    y_peaks = H[peaks_idx]\n",
    "    plt.bar(bins[:-1], H, width=1 / np.size(H), align=\"center\")\n",
    "    plt.plot(x_peaks, y_peaks, \"x\", color=\"red\")\n",
    "    plt.xlim((0, 1))\n",
    "    plt.title(f\"Histogram of {label} with peaks\")\n",
    "    plt.show()\n",
    "    return x_peaks / (1 - x_peaks)\n"
   ]
  },
  {
   "cell_type": "code",
   "execution_count": null,
   "metadata": {},
   "outputs": [],
   "source": [
    "rs = calculate_r(u_hist, \"U\", height=(1000, None))\n",
    "print(rs)\n"
   ]
  },
  {
   "cell_type": "markdown",
   "metadata": {},
   "source": [
    "Les valeurs estimées sont toutes proches des valeurs théoriques des $R_1$, $R_2$ et $R_3$."
   ]
  },
  {
   "cell_type": "markdown",
   "metadata": {},
   "source": [
    "8. A l'aide du programme précédent, calculer les seuils optimaux et effectuer la séparation."
   ]
  },
  {
   "cell_type": "code",
   "execution_count": null,
   "metadata": {},
   "outputs": [],
   "source": [
    "ts = calcul_seuil(rs)\n",
    "print(ts)\n"
   ]
  },
  {
   "cell_type": "code",
   "execution_count": null,
   "metadata": {},
   "outputs": [],
   "source": [
    "tf12s1u, tf12s2u, tf12s3u, tf22s1u, tf22s2u, tf22s3u = separation_3(tf12, tf22, ts)\n"
   ]
  },
  {
   "cell_type": "markdown",
   "metadata": {},
   "source": [
    "9. Commenter."
   ]
  },
  {
   "cell_type": "code",
   "execution_count": null,
   "metadata": {},
   "outputs": [],
   "source": [
    "s1_12u = RecSon(tf12s1u)\n",
    "plot_spec(\n",
    "    np.abs(tf12s1)[:20], \"S1 in Mix12 at low frequency with known ratio\", aspect=10\n",
    ")\n",
    "plot_spec(\n",
    "    np.abs(tf12s1u)[:20], \"S1 in Mix12 at low frequency with unknown ratio\", aspect=10\n",
    ")\n",
    "Audio(s1_12u, rate=fe)\n"
   ]
  },
  {
   "cell_type": "code",
   "execution_count": null,
   "metadata": {},
   "outputs": [],
   "source": [
    "s1_22u = RecSon(tf22s1u)\n",
    "plot_spec(\n",
    "    np.abs(tf22s1)[:20], \"S1 in Mix22 at low frequency with known ratio\", aspect=10\n",
    ")\n",
    "plot_spec(\n",
    "    np.abs(tf22s1u)[:20], \"S1 in Mix22 at low frequency with unknown ratio\", aspect=10\n",
    ")\n",
    "Audio(s1_22u, rate=fe)\n"
   ]
  },
  {
   "cell_type": "code",
   "execution_count": null,
   "metadata": {},
   "outputs": [],
   "source": [
    "s2_12u = RecSon(tf12s2u)\n",
    "plot_spec(\n",
    "    np.abs(tf12s2)[:20], \"S2 in Mix12 at low frequency with known ratio\", aspect=10\n",
    ")\n",
    "plot_spec(\n",
    "    np.abs(tf12s2u)[:20], \"S2 in Mix12 at low frequency with unknown ratio\", aspect=10\n",
    ")\n",
    "Audio(s2_12u, rate=fe)\n"
   ]
  },
  {
   "cell_type": "code",
   "execution_count": null,
   "metadata": {},
   "outputs": [],
   "source": [
    "s2_22u = RecSon(tf22s2u)\n",
    "plot_spec(\n",
    "    np.abs(tf22s2)[:20], \"S2 in Mix22 at low frequency with known ratio\", aspect=10\n",
    ")\n",
    "plot_spec(\n",
    "    np.abs(tf22s2u)[:20], \"S2 in Mix22 at low frequency with unknown ratio\", aspect=10\n",
    ")\n",
    "Audio(s2_22u, rate=fe)\n"
   ]
  },
  {
   "cell_type": "code",
   "execution_count": null,
   "metadata": {},
   "outputs": [],
   "source": [
    "s3_12u = RecSon(tf12s3u)\n",
    "plot_spec(\n",
    "    np.abs(tf12s3)[:20], \"S3 in Mix12 at low frequency with known ratio\", aspect=10\n",
    ")\n",
    "plot_spec(\n",
    "    np.abs(tf12s3u)[:20], \"S3 in Mix12 at low frequency with unknown ratio\", aspect=10\n",
    ")\n",
    "Audio(s3_12u, rate=fe)\n"
   ]
  },
  {
   "cell_type": "code",
   "execution_count": null,
   "metadata": {},
   "outputs": [],
   "source": [
    "s3_22u = RecSon(tf22s3u)\n",
    "plot_spec(\n",
    "    np.abs(tf22s3)[:20], \"S3 in Mix22 at low frequency with known ratio\", aspect=10\n",
    ")\n",
    "plot_spec(\n",
    "    np.abs(tf22s3u)[:20], \"S3 in Mix22 at low frequency with unknown ratio\", aspect=10\n",
    ")\n",
    "Audio(s3_22u, rate=fe)\n"
   ]
  },
  {
   "cell_type": "markdown",
   "metadata": {},
   "source": [
    "Les mêmes résultats peuvent être obtenus quelle que soit la méthode. Les résultats ne sont évidemment pas parfaits mais acceptables."
   ]
  }
 ],
 "metadata": {
  "kernelspec": {
   "display_name": "Python 3 (ipykernel)",
   "language": "python",
   "name": "python3"
  },
  "language_info": {
   "codemirror_mode": {
    "name": "ipython",
    "version": 3
   },
   "file_extension": ".py",
   "mimetype": "text/x-python",
   "name": "python",
   "nbconvert_exporter": "python",
   "pygments_lexer": "ipython3",
   "version": "3.8.10"
  }
 },
 "nbformat": 4,
 "nbformat_minor": 4
}
