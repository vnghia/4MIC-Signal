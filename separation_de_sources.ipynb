{
 "cells": [
  {
   "cell_type": "markdown",
   "metadata": {},
   "source": [
    "# Séparation de sources"
   ]
  },
  {
   "cell_type": "code",
   "execution_count": 1,
   "metadata": {},
   "outputs": [],
   "source": [
    "from __future__ import division\n",
    "from IPython.display import Audio\n",
    "import numpy as np\n",
    "import scipy as scp\n",
    "import pylab as pyl\n",
    "from matplotlib import cm\n",
    "import matplotlib.pyplot as plt\n",
    "import pywt\n",
    "import scipy.io as sio\n",
    "from scipy import fftpack\n",
    "from matplotlib.pyplot import imshow as imageplot\n",
    "from mpl_toolkits.mplot3d import Axes3D\n",
    "import wave\n",
    "import warnings\n",
    "from scipy.io.wavfile import read\n",
    "\n",
    "warnings.filterwarnings(\"ignore\")\n"
   ]
  },
  {
   "cell_type": "markdown",
   "metadata": {},
   "source": [
    "Le but de ce TP est de réaliser un programme python qui effectue une séparation de sources. Plus précisément un programme qui prend en entrée un son stéréophonique, mélange instantané de plusieurs sources sonores (ici des instruments de musique) et qui renvoie plusieurs sons stéréophoniques. On utilisera la transformée de Fourier à court terme (TFCT), ou transformée de Fourier à fenêtres, vue lors du TP précédent. \n",
    "    Le procédé général de ce programme de séparation de sources est intégralement décrit dans le poly de cours. Je vous invite à vous y reporter pour de plus amples explications. En bref, on va utiliser le fait, \n",
    "    que la plupart du temps, deux instrusments ne jouent pas la même note au même moment et on va segmenter les spectrogrammes des deux voix de manière à attribuer chaque atome temps-fréquence à un instrument, en fonction du rapport d'intensité entre les deux voix, qui est supposé caractérisé chaque instrument.\n",
    "Le TP de décompose en trois parties.\n",
    "\n",
    "1) On considère un mélange de seulement deux instruments et on fait l'hypothèse que l'on connait les coefficients du mélange.\n",
    "\n",
    "2) On considère un mélange de trois instruments et on fait l'hypothèse que l'on connait les coefficients du mélange.\n",
    "\n",
    "3) On considère le même mélange de trois instruments mais cette fois ci on estime les coefficients de mélange.\n",
    "\n",
    "Ce TP s'appuiera sur les codes réalisés lors du précédent, plus précisément TFCourtTerme et RecSon."
   ]
  },
  {
   "cell_type": "markdown",
   "metadata": {},
   "source": [
    "## Séparation de deux instruments"
   ]
  },
  {
   "cell_type": "markdown",
   "metadata": {},
   "source": [
    "A l'aide la fonction read, charger dans deux vecteurs différents $V1$ et $V2$ les sons Mix11.wav et Mix21.wav et afficher les tranformées de Fourier à fenêtres de chacune des deux voix (on utilisera TFCourtTerme).\n",
    "On pourra afficher les basses fréquences pour mieux voir.\n",
    "On fait l'hypothèse que les voix 1 et 2 (dites V1 et V2 ) est obtenue à partir des deux sources S1 et S2 de la manière suivante :\n",
    "$$V_1=\\frac{1}{3}S_1+\\frac{2}{3}S_2\\text{ et }V_2=\\frac{2}{3}S_1+\\frac{1}{3}S_2$$\n",
    "Vous devriez voir les traces des deux instruments qui diffèrent par leur structure."
   ]
  },
  {
   "cell_type": "markdown",
   "metadata": {},
   "source": [
    "Proposer un programme Separation2Instru qui prend en entrée deux Transformées de Fourier à court terme (TFCT) et un seuil $T$ et qui renvoie 4 TFCT, chacune associée à une source et à un instrument. Le détail de la procédure est décrite dans le poly et a été expliqué en cours. On rappelle, qu'on effectue la séparation uniquement à partir du module de la TFCT. On reconstruit ensuite les TFCT en utilisant les phases des voix 1 et 2."
   ]
  },
  {
   "cell_type": "markdown",
   "metadata": {},
   "source": [
    "Quel seuil peut-on proposer ici ? Proposer une formule générale en fonction des coefficients du mélange."
   ]
  },
  {
   "cell_type": "markdown",
   "metadata": {},
   "source": [
    "Reconstruire ensuite à l'aide du programme RecSon, chacune des voix et écouter chacun des 4 sons produits. \n",
    "Commentez le résultat."
   ]
  },
  {
   "cell_type": "markdown",
   "metadata": {},
   "source": [
    "## Séparation de trois instruments"
   ]
  },
  {
   "cell_type": "markdown",
   "metadata": {},
   "source": [
    "Charger les nouvelles voix 1 et 2 à partir des fichiers Mix12.wav et Mix22.wav.\n",
    "    On fait l'hypothèse que chacune des voix est maintenant un mélange instantané de trois instruments \n",
    "$$SV_1= \\frac{2}{5}S_1 + \\frac{1}{5}S_2 + \\frac{4}{5}S_3\\text{ et }V_2= \\frac{3}{5}S_1 + \\frac{4}{5}S_2 + \\frac{1}{5}S_3$$\n"
   ]
  },
  {
   "cell_type": "markdown",
   "metadata": {},
   "source": [
    "Afficher les spectrogrammes des deux voix et visualiser les traces des trois instruments. "
   ]
  },
  {
   "cell_type": "markdown",
   "metadata": {},
   "source": [
    "Proposer un programme de séparation Separation3Instru qui prend en entrée deux TFCT, un vecteur $T$ seuil à 2 composantes et qui renvoie 6 TFCT associées aux deux voix de chacun des trois instruments. \n",
    "\n"
   ]
  },
  {
   "cell_type": "markdown",
   "metadata": {},
   "source": [
    "Ecrire un programme CalculSeuil qui prend en entrée 3 rapports d'intensité et qui renvoie deux seuils associés. "
   ]
  },
  {
   "cell_type": "markdown",
   "metadata": {},
   "source": [
    "Tester le programme en utilisant les rapports d'intensités calculés à partir des coefficients de mélange, et commenter."
   ]
  },
  {
   "cell_type": "markdown",
   "metadata": {},
   "source": [
    "## Estimation des coeffients de mélange"
   ]
  },
  {
   "cell_type": "markdown",
   "metadata": {},
   "source": [
    "On suppose dans cette partie qu'on veut effectuer la séparation précédente, sans connaitre les coefficienst de mélange. On parle de séparation aveugle. On va donc chercher à estimer ces coefficients de mélange, ou plus précisément des rapports d'intensité des deux voix pour chacun des instruments. L'idée générale est simple : on va calculer un histogramme des rapports d'intensité des modules des TFCT et sélectionner les 3 valeurs les plus réprésentées dans l'histogramme, c'est à dire les troix maxima locaux de l'histogramme. Dans le détail on procéder de la manière suivante :\n",
    "\n",
    "1) On construit un tableau ModuleCarre qui va contenir la somme des carrés des modules des TFCT des deux voix.\n",
    "\n",
    "2) On seuille ce tableau de manière à ne conserver que les N= 10% de coefficients les plus importants du tableau.\n",
    "\n",
    "3) On construit une matrice $2\\times N$ qui contient les pairs d'intensité associées des TFCT des deux voix.\n",
    "\n",
    "4) On affiche sur un diagramme 2D les points obtnus (on ne les relie pas, on affiche par exemple des croix).\n",
    "\n",
    "Les points obtenus doivent se répartir approximativement selon des nuages dirigés le long de droites dont les coefficients directeurs sont les rapports d'intensité.\n",
    "\n",
    "5) On calcule un vecteur $R$ de rapports d'intensité (de longueur N).\n",
    "\n",
    "6) On affiche un histogramme de $R$ et un histogramme de $U=\\frac{R}{1+R}$. Vous devriez observer que les maxima de l'histogramme de $U$ sont plus marqués. \n",
    "\n",
    "7) Ecrire un programme qui estime les 3 valeurs des maximas de l'histogramme de U et donc les rapports $R_1$, $R_2$ et $R_3$ associés aux trois isntruments.\n",
    "\n",
    "8) A l'aide du programme précédent, calculer les seuils optimaux et effectuer la séparation.\n",
    "\n",
    "9) Commenter."
   ]
  },
  {
   "cell_type": "markdown",
   "metadata": {},
   "source": [
    "\n"
   ]
  }
 ],
 "metadata": {
  "kernelspec": {
   "display_name": "Python 3",
   "language": "python",
   "name": "python3"
  },
  "language_info": {
   "codemirror_mode": {
    "name": "ipython",
    "version": 3
   },
   "file_extension": ".py",
   "mimetype": "text/x-python",
   "name": "python",
   "nbconvert_exporter": "python",
   "pygments_lexer": "ipython3",
   "version": "3.6.4"
  }
 },
 "nbformat": 4,
 "nbformat_minor": 2
}
